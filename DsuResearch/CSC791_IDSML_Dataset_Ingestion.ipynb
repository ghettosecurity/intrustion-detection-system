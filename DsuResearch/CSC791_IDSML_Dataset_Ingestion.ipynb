{
 "cells": [
  {
   "cell_type": "code",
   "execution_count": 1,
   "metadata": {},
   "outputs": [],
   "source": [
    "import os\n",
    "import glob\n",
    "import pandas as pd\n",
    "import numpy as np\n",
    "from sklearn import preprocessing\n",
    "import warnings\n",
    "warnings.filterwarnings('ignore')"
   ]
  },
  {
   "cell_type": "code",
   "execution_count": 2,
   "metadata": {},
   "outputs": [
    {
     "data": {
      "text/plain": [
       "Index(['ACK Flag Cnt', 'Active Max', 'Active Mean', 'Active Min', 'Active Std',\n",
       "       'Bwd Blk Rate Avg', 'Bwd Byts/b Avg', 'Bwd Header Len', 'Bwd IAT Max',\n",
       "       'Bwd IAT Mean', 'Bwd IAT Min', 'Bwd IAT Std', 'Bwd IAT Tot',\n",
       "       'Bwd PSH Flags', 'Bwd Pkt Len Max', 'Bwd Pkt Len Mean',\n",
       "       'Bwd Pkt Len Min', 'Bwd Pkt Len Std', 'Bwd Pkts/b Avg', 'Bwd Pkts/s',\n",
       "       'Bwd Seg Size Avg', 'Bwd URG Flags', 'CWE Flag Count', 'Down/Up Ratio',\n",
       "       'Dst IP', 'Dst Port', 'ECE Flag Cnt', 'FIN Flag Cnt', 'Flow Byts/s',\n",
       "       'Flow Duration', 'Flow IAT Max', 'Flow IAT Mean', 'Flow IAT Min',\n",
       "       'Flow IAT Std', 'Flow ID', 'Flow Pkts/s', 'Fwd Act Data Pkts',\n",
       "       'Fwd Blk Rate Avg', 'Fwd Byts/b Avg', 'Fwd Header Len', 'Fwd IAT Max',\n",
       "       'Fwd IAT Mean', 'Fwd IAT Min', 'Fwd IAT Std', 'Fwd IAT Tot',\n",
       "       'Fwd PSH Flags', 'Fwd Pkt Len Max', 'Fwd Pkt Len Mean',\n",
       "       'Fwd Pkt Len Min', 'Fwd Pkt Len Std', 'Fwd Pkts/b Avg', 'Fwd Pkts/s',\n",
       "       'Fwd Seg Size Avg', 'Fwd Seg Size Min', 'Fwd URG Flags', 'Idle Max',\n",
       "       'Idle Mean', 'Idle Min', 'Idle Std', 'Init Bwd Win Byts',\n",
       "       'Init Fwd Win Byts', 'Label', 'PSH Flag Cnt', 'Pkt Len Max',\n",
       "       'Pkt Len Mean', 'Pkt Len Min', 'Pkt Len Std', 'Pkt Len Var',\n",
       "       'Pkt Size Avg', 'Protocol', 'RST Flag Cnt', 'SYN Flag Cnt', 'Src IP',\n",
       "       'Src Port', 'Subflow Bwd Byts', 'Subflow Bwd Pkts', 'Subflow Fwd Byts',\n",
       "       'Subflow Fwd Pkts', 'Timestamp', 'Tot Bwd Pkts', 'Tot Fwd Pkts',\n",
       "       'TotLen Bwd Pkts', 'TotLen Fwd Pkts', 'URG Flag Cnt'],\n",
       "      dtype='object')"
      ]
     },
     "execution_count": 2,
     "metadata": {},
     "output_type": "execute_result"
    }
   ],
   "source": [
    "# get data file names\n",
    "path =r'dataset'\n",
    "filenames = glob.glob(path + \"\\*.csv\")\n",
    "\n",
    "dfs = []\n",
    "for filename in filenames:\n",
    "    dfs.append(pd.read_csv(filename))\n",
    "\n",
    "# Concatenate all data into one DataFrame\n",
    "data_df = pd.concat(dfs)\n",
    "data_df.columns"
   ]
  },
  {
   "cell_type": "code",
   "execution_count": 3,
   "metadata": {},
   "outputs": [
    {
     "data": {
      "text/plain": [
       "Benign                      13484708\n",
       "DDOS attack-HOIC              686012\n",
       "DDoS attacks-LOIC-HTTP        576191\n",
       "DoS attacks-Hulk              461912\n",
       "Bot                           286191\n",
       "FTP-BruteForce                193360\n",
       "SSH-Bruteforce                187589\n",
       "Infilteration                 161934\n",
       "DoS attacks-SlowHTTPTest      139890\n",
       "DoS attacks-GoldenEye          41508\n",
       "DoS attacks-Slowloris          10990\n",
       "DDOS attack-LOIC-UDP            1730\n",
       "Brute Force -Web                 611\n",
       "Brute Force -XSS                 230\n",
       "SQL Injection                     87\n",
       "Label                             59\n",
       "Name: Label, dtype: int64"
      ]
     },
     "execution_count": 3,
     "metadata": {},
     "output_type": "execute_result"
    }
   ],
   "source": [
    "data_df = data_df.drop(['Timestamp', 'Flow ID', 'Src IP', 'Dst IP', 'Protocol', 'Src Port'], axis=1)\n",
    "data_df.head()\n",
    "data_df['Label'].value_counts()"
   ]
  },
  {
   "cell_type": "code",
   "execution_count": 4,
   "metadata": {},
   "outputs": [
    {
     "data": {
      "text/plain": [
       "0     13484708\n",
       "4       686012\n",
       "6       576191\n",
       "8       461912\n",
       "1       286191\n",
       "11      193360\n",
       "15      187589\n",
       "12      161934\n",
       "9       139890\n",
       "7        41508\n",
       "10       10990\n",
       "5         1730\n",
       "2          611\n",
       "3          230\n",
       "14          87\n",
       "13          59\n",
       "Name: Label, dtype: int64"
      ]
     },
     "execution_count": 4,
     "metadata": {},
     "output_type": "execute_result"
    }
   ],
   "source": [
    "le = preprocessing.LabelEncoder()\n",
    "data_df['Label'] = le.fit_transform(data_df['Label'].values)\n",
    "data_df['Label'].value_counts()"
   ]
  },
  {
   "cell_type": "code",
   "execution_count": 5,
   "metadata": {},
   "outputs": [
    {
     "data": {
      "text/plain": [
       "ACK Flag Cnt         float64\n",
       "Active Max           float64\n",
       "Active Mean          float64\n",
       "Active Min           float64\n",
       "Active Std           float64\n",
       "Bwd Blk Rate Avg     float64\n",
       "Bwd Byts/b Avg       float64\n",
       "Bwd Header Len       float64\n",
       "Bwd IAT Max          float64\n",
       "Bwd IAT Mean         float64\n",
       "Bwd IAT Min          float64\n",
       "Bwd IAT Std          float64\n",
       "Bwd IAT Tot          float64\n",
       "Bwd PSH Flags        float64\n",
       "Bwd Pkt Len Max      float64\n",
       "Bwd Pkt Len Mean     float64\n",
       "Bwd Pkt Len Min      float64\n",
       "Bwd Pkt Len Std      float64\n",
       "Bwd Pkts/b Avg       float64\n",
       "Bwd Pkts/s           float64\n",
       "Bwd Seg Size Avg     float64\n",
       "Bwd URG Flags        float64\n",
       "CWE Flag Count       float64\n",
       "Down/Up Ratio        float64\n",
       "Dst Port             float64\n",
       "ECE Flag Cnt         float64\n",
       "FIN Flag Cnt         float64\n",
       "Flow Byts/s          float64\n",
       "Flow Duration        float64\n",
       "Flow IAT Max         float64\n",
       "                      ...   \n",
       "Fwd Pkts/b Avg       float64\n",
       "Fwd Pkts/s           float64\n",
       "Fwd Seg Size Avg     float64\n",
       "Fwd Seg Size Min     float64\n",
       "Fwd URG Flags        float64\n",
       "Idle Max             float64\n",
       "Idle Mean            float64\n",
       "Idle Min             float64\n",
       "Idle Std             float64\n",
       "Init Bwd Win Byts    float64\n",
       "Init Fwd Win Byts    float64\n",
       "Label                  int64\n",
       "PSH Flag Cnt         float64\n",
       "Pkt Len Max          float64\n",
       "Pkt Len Mean         float64\n",
       "Pkt Len Min          float64\n",
       "Pkt Len Std          float64\n",
       "Pkt Len Var          float64\n",
       "Pkt Size Avg         float64\n",
       "RST Flag Cnt         float64\n",
       "SYN Flag Cnt         float64\n",
       "Subflow Bwd Byts     float64\n",
       "Subflow Bwd Pkts     float64\n",
       "Subflow Fwd Byts     float64\n",
       "Subflow Fwd Pkts     float64\n",
       "Tot Bwd Pkts         float64\n",
       "Tot Fwd Pkts         float64\n",
       "TotLen Bwd Pkts      float64\n",
       "TotLen Fwd Pkts      float64\n",
       "URG Flag Cnt         float64\n",
       "Length: 78, dtype: object"
      ]
     },
     "execution_count": 5,
     "metadata": {},
     "output_type": "execute_result"
    }
   ],
   "source": [
    "# We still have 2 features that are still \"text\" with the word \"Infinity\"\n",
    "data_df = data_df.replace('Infinity', 'inf')\n",
    "for column in data_df.columns:\n",
    "    data_df[column] = pd.to_numeric(data_df[column], errors='coerce')\n",
    "#data_df['Flow Pkts/s'] = pd.to_numeric(data_df['Flow Pkts/s'], errors='coerce')\n",
    "data_df.dtypes"
   ]
  },
  {
   "cell_type": "code",
   "execution_count": 6,
   "metadata": {},
   "outputs": [
    {
     "name": "stdout",
     "output_type": "stream",
     "text": [
      "Series([], Name: Flow Pkts/s, dtype: float64)\n",
      "Series([], Name: Flow Byts/s, dtype: float64)\n",
      "0     13390249\n",
      "4       686012\n",
      "6       576191\n",
      "8       461912\n",
      "1       286191\n",
      "11      193354\n",
      "15      187589\n",
      "12      160639\n",
      "9       139890\n",
      "7        41508\n",
      "10       10990\n",
      "5         1730\n",
      "2          611\n",
      "3          230\n",
      "14          87\n",
      "13          59\n",
      "Name: Label, dtype: int64\n"
     ]
    }
   ],
   "source": [
    "data_df = data_df[~data_df.isin([np.nan, np.inf, -np.inf]).any(1)]\n",
    "data_df = data_df.fillna(0)\n",
    "print(data_df['Flow Pkts/s'].loc[(~np.isfinite(data_df['Flow Pkts/s'])) & data_df['Flow Pkts/s'].notnull()])\n",
    "print(data_df['Flow Byts/s'].loc[(~np.isfinite(data_df['Flow Byts/s'])) & data_df['Flow Byts/s'].notnull()])\n",
    "print(data_df['Label'].value_counts())"
   ]
  },
  {
   "cell_type": "code",
   "execution_count": 7,
   "metadata": {},
   "outputs": [],
   "source": [
    "data_df.head()\n",
    "data_df.to_pickle('processed_data_df.pkl')"
   ]
  }
 ],
 "metadata": {
  "kernelspec": {
   "display_name": "Python 3",
   "language": "python",
   "name": "python3"
  },
  "language_info": {
   "codemirror_mode": {
    "name": "ipython",
    "version": 3
   },
   "file_extension": ".py",
   "mimetype": "text/x-python",
   "name": "python",
   "nbconvert_exporter": "python",
   "pygments_lexer": "ipython3",
   "version": "3.6.4"
  }
 },
 "nbformat": 4,
 "nbformat_minor": 2
}
