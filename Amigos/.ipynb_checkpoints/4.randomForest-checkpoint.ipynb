{
 "cells": [
  {
   "cell_type": "code",
   "execution_count": 9,
   "metadata": {},
   "outputs": [],
   "source": [
    "from sklearn import preprocessing\n",
    "from sklearn.externals import joblib\n",
    "import sklearn as skl\n",
    "from sklearn import tree\n",
    "from collections import defaultdict\n",
    "import pandas as pd\n",
    "import numpy as np\n",
    "import matplotlib.pyplot as plt\n",
    "import pickle\n",
    "from sklearn.metrics import accuracy_score\n",
    "from sklearn.metrics import classification_report \n",
    "%matplotlib inline\n",
    "import time\n",
    "import warnings\n",
    "# 5-class classification version\n",
    "from sklearn.tree import DecisionTreeClassifier\n",
    "from sklearn.metrics import confusion_matrix, zero_one_loss, accuracy_score\n",
    "# Fitting Random Forest Classification to the Training set\n",
    "from sklearn.ensemble import RandomForestClassifier\n",
    "warnings.filterwarnings('ignore')"
   ]
  },
  {
   "cell_type": "code",
   "execution_count": 10,
   "metadata": {},
   "outputs": [],
   "source": [
    "# Load all the training and testing data\n",
    "X_train = pd.read_pickle('X_train.pkl')\n",
    "X_test = pd.read_pickle('X_test.pkl')\n",
    "y_test = pd.read_pickle('y_test.pkl')\n",
    "y_train = pd.read_pickle('y_train.pkl')"
   ]
  },
  {
   "cell_type": "code",
   "execution_count": 11,
   "metadata": {},
   "outputs": [],
   "source": [
    "# Timer to see how long it takes to test the algorithm\n",
    "startTime = time.perf_counter()\n",
    "\n",
    "rf_classifier = RandomForestClassifier(n_estimators = 10, random_state = 10, n_jobs=-1)\n",
    "rf_classifier.fit(X_train, y_train)\n",
    "\n",
    "# Predicting the Test set results\n",
    "y_pred_rf = rf_classifier.predict(X_test)\n",
    "\n",
    "rf_results = confusion_matrix(y_test, y_pred_rf)\n",
    "rf_error = zero_one_loss(y_test, y_pred_rf)\n",
    "rf_score = accuracy_score(y_test, y_pred_rf) * 100\n",
    "rf_report = classification_report(y_test, y_pred_rf)\n",
    "\n",
    "# Print endTime - startTime to calculate how long it takes\n",
    "endTime = time.perf_counter()"
   ]
  },
  {
   "cell_type": "code",
   "execution_count": 15,
   "metadata": {},
   "outputs": [
    {
     "name": "stdout",
     "output_type": "stream",
     "text": [
      "Total time: 37.6734 seconds \n",
      "\n",
      "Decision Tree Classifier Results\n",
      "=================================================\n",
      "Confusion Matrix:\n",
      "[723562     16]\n",
      "[    37 215333] \n",
      "\n",
      "Report :\n",
      "              precision    recall  f1-score   support\n",
      "\n",
      "           0       1.00      1.00      1.00    723578\n",
      "           1       1.00      1.00      1.00    215370\n",
      "\n",
      "    accuracy                           1.00    938948\n",
      "   macro avg       1.00      1.00      1.00    938948\n",
      "weighted avg       1.00      1.00      1.00    938948\n",
      "\n",
      "True Postive   : 723562\n",
      "False Positive : 16\n",
      "False Negative : 37\n",
      "True Negative  : 215333\n",
      "Error Value    : 5.644615037259104e-05\n",
      "Accuracy_Score : 99.99435538496274\n",
      "=================================================\n"
     ]
    }
   ],
   "source": [
    "print(f\"Total time: {endTime - startTime:0.4f} seconds \\n\")\n",
    "print(\"Decision Tree Classifier Results\")\n",
    "print(\"=================================================\")\n",
    "print(f\"Confusion Matrix:\")\n",
    "print(f\"{rf_results[0]}\")\n",
    "print(f\"{rf_results[1]} \\n\")\n",
    "\n",
    "print(\"Report :\")\n",
    "print(rf_report) \n",
    "\n",
    "print(f\"True Postive   : {rf_results[0][0]}\")\n",
    "print(f\"False Positive : {rf_results[0][1]}\")\n",
    "print(f\"False Negative : {rf_results[1][0]}\")\n",
    "print(f\"True Negative  : {rf_results[1][1]}\")\n",
    "print(f\"Error Value    : {rf_error}\")\n",
    "print(f\"Accuracy_Score : {rf_score}\")\n",
    "print(\"=================================================\")"
   ]
  },
  {
   "cell_type": "code",
   "execution_count": null,
   "metadata": {},
   "outputs": [],
   "source": []
  }
 ],
 "metadata": {
  "kernelspec": {
   "display_name": "Python 3",
   "language": "python",
   "name": "python3"
  },
  "language_info": {
   "codemirror_mode": {
    "name": "ipython",
    "version": 3
   },
   "file_extension": ".py",
   "mimetype": "text/x-python",
   "name": "python",
   "nbconvert_exporter": "python",
   "pygments_lexer": "ipython3",
   "version": "3.7.6"
  }
 },
 "nbformat": 4,
 "nbformat_minor": 4
}
